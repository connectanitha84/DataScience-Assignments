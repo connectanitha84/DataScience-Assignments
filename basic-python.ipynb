{
 "cells": [
  {
   "cell_type": "markdown",
   "id": "0d431e33",
   "metadata": {},
   "source": [
    "**hello** there\n",
    ">$ a*b/9$"
   ]
  },
  {
   "cell_type": "code",
   "execution_count": 1,
   "id": "a9f87669",
   "metadata": {},
   "outputs": [
    {
     "name": "stdout",
     "output_type": "stream",
     "text": [
      "hello\n"
     ]
    }
   ],
   "source": [
    "print(\"hello\")"
   ]
  },
  {
   "cell_type": "markdown",
   "id": "a32e0863",
   "metadata": {},
   "source": [
    "https://google.com"
   ]
  },
  {
   "cell_type": "markdown",
   "id": "f9f322f8",
   "metadata": {},
   "source": [
    "https://google.com"
   ]
  },
  {
   "cell_type": "code",
   "execution_count": 2,
   "id": "d1da18fc",
   "metadata": {},
   "outputs": [
    {
     "name": "stdout",
     "output_type": "stream",
     "text": [
      "0\n",
      "3\n",
      "6\n",
      "9\n",
      "12\n",
      "15\n",
      "18\n"
     ]
    }
   ],
   "source": [
    "for i in range(0,20,3):\n",
    "    print(i)"
   ]
  },
  {
   "cell_type": "code",
   "execution_count": 3,
   "id": "7d62ff6b",
   "metadata": {
    "scrolled": true
   },
   "outputs": [
    {
     "name": "stdout",
     "output_type": "stream",
     "text": [
      "0\n",
      "1\n",
      "4\n",
      "9\n",
      "16\n",
      "25\n",
      "36\n",
      "49\n",
      "64\n",
      "81\n",
      "100\n"
     ]
    }
   ],
   "source": [
    "squares=[]\n",
    "for i in range(11):\n",
    "    print(i*i)"
   ]
  },
  {
   "cell_type": "code",
   "execution_count": 4,
   "id": "db5606af",
   "metadata": {},
   "outputs": [
    {
     "data": {
      "text/plain": [
       "[0, 1, 4, 9, 16, 25, 36, 49, 64, 81, 100]"
      ]
     },
     "execution_count": 4,
     "metadata": {},
     "output_type": "execute_result"
    }
   ],
   "source": [
    "squares=[i**2 for i in range(11)]\n",
    "squares"
   ]
  },
  {
   "cell_type": "code",
   "execution_count": 5,
   "id": "2f21c519",
   "metadata": {},
   "outputs": [
    {
     "data": {
      "text/plain": [
       "[0, 16, 64]"
      ]
     },
     "execution_count": 5,
     "metadata": {},
     "output_type": "execute_result"
    }
   ],
   "source": [
    "squares=[i**2 for i in range(11) if i%4==0]\n",
    "squares"
   ]
  },
  {
   "cell_type": "code",
   "execution_count": 6,
   "id": "bcb49798",
   "metadata": {},
   "outputs": [
    {
     "data": {
      "text/plain": [
       "{0: 0, 1: 1, 2: 4, 3: 9, 4: 16, 5: 25, 6: 36, 7: 49, 8: 64, 9: 81, 10: 100}"
      ]
     },
     "execution_count": 6,
     "metadata": {},
     "output_type": "execute_result"
    }
   ],
   "source": [
    "new_dict = {i:i**2 for i in range(11)}\n",
    "new_dict"
   ]
  },
  {
   "cell_type": "code",
   "execution_count": 7,
   "id": "36ab141e",
   "metadata": {},
   "outputs": [
    {
     "data": {
      "text/plain": [
       "14"
      ]
     },
     "execution_count": 7,
     "metadata": {},
     "output_type": "execute_result"
    }
   ],
   "source": [
    "sum(i**2 for i in range(4))\n"
   ]
  },
  {
   "cell_type": "code",
   "execution_count": 8,
   "id": "5c2612d6",
   "metadata": {},
   "outputs": [
    {
     "data": {
      "text/plain": [
       "[1, 1, 2, 1, 2, 3, 1, 2, 3, 4]"
      ]
     },
     "execution_count": 8,
     "metadata": {},
     "output_type": "execute_result"
    }
   ],
   "source": [
    "counting=[j for i in range(1,5) for j in range(1,i+1)]\n",
    "counting"
   ]
  },
  {
   "cell_type": "code",
   "execution_count": 9,
   "id": "81961584",
   "metadata": {},
   "outputs": [
    {
     "data": {
      "text/plain": [
       "[('ashin', 'thankachan', 'june 4', 'trivandrum'),\n",
       " ('diya', 'joseph', 'April 14', 'kollam'),\n",
       " ('flora', 'manoj', 'sep 5', 'trivandrum'),\n",
       " ('abhijith', 'Gopan', 'march 19', 'kottayam')]"
      ]
     },
     "execution_count": 9,
     "metadata": {},
     "output_type": "execute_result"
    }
   ],
   "source": [
    "student_details=[(\"ashin\",\"thankachan\",\"june 4\",\"trivandrum\" ),\n",
    "                 (\"diya\",\"joseph\",\"April 14\",\"kollam\"),\n",
    "                 (\"flora\",\"manoj\",\"sep 5\",\"trivandrum\"),\n",
    "                 (\"abhijith\",\"Gopan\",\"march 19\", \"kottayam\")]\n",
    "student_details"
   ]
  },
  {
   "cell_type": "code",
   "execution_count": 10,
   "id": "ebf63794",
   "metadata": {},
   "outputs": [
    {
     "data": {
      "text/plain": [
       "('ashin', 'thankachan', 'june 4', 'trivandrum')"
      ]
     },
     "execution_count": 10,
     "metadata": {},
     "output_type": "execute_result"
    }
   ],
   "source": [
    "student_details[0]"
   ]
  },
  {
   "cell_type": "code",
   "execution_count": 11,
   "id": "fd7a9cb5",
   "metadata": {},
   "outputs": [
    {
     "data": {
      "text/plain": [
       "'ashin'"
      ]
     },
     "execution_count": 11,
     "metadata": {},
     "output_type": "execute_result"
    }
   ],
   "source": [
    "student_details[0][0]"
   ]
  },
  {
   "cell_type": "code",
   "execution_count": 12,
   "id": "105c9076",
   "metadata": {},
   "outputs": [
    {
     "data": {
      "text/plain": [
       "[('ashin', 'thankachan', 'june 4', 'trivandrum'),\n",
       " ('flora', 'manoj', 'sep 5', 'trivandrum')]"
      ]
     },
     "execution_count": 12,
     "metadata": {},
     "output_type": "execute_result"
    }
   ],
   "source": [
    "[stu for stu in student_details if stu[3]==\"trivandrum\"]"
   ]
  },
  {
   "cell_type": "code",
   "execution_count": 13,
   "id": "72330570",
   "metadata": {},
   "outputs": [
    {
     "data": {
      "text/plain": [
       "new_data(name='asha', age=12, place='ktym')"
      ]
     },
     "execution_count": 13,
     "metadata": {},
     "output_type": "execute_result"
    }
   ],
   "source": [
    "import collections\n",
    "collect_type = collections.namedtuple(\"new_data\",[\"name\",\"age\",'place'])\n",
    "one=collect_type(\"asha\",12,\"ktym\")\n",
    "one"
   ]
  },
  {
   "cell_type": "code",
   "execution_count": 14,
   "id": "ac2fc9fb",
   "metadata": {},
   "outputs": [
    {
     "data": {
      "text/plain": [
       "new_data(name='bahani', age=12, place='ktym')"
      ]
     },
     "execution_count": 14,
     "metadata": {},
     "output_type": "execute_result"
    }
   ],
   "source": [
    "collect_type(age=12, place='ktym' ,name='bahani' )"
   ]
  },
  {
   "cell_type": "code",
   "execution_count": 15,
   "id": "79269b81",
   "metadata": {},
   "outputs": [
    {
     "data": {
      "text/plain": [
       "'asha'"
      ]
     },
     "execution_count": 15,
     "metadata": {},
     "output_type": "execute_result"
    }
   ],
   "source": [
    "one.name"
   ]
  },
  {
   "cell_type": "code",
   "execution_count": 16,
   "id": "844d0196",
   "metadata": {},
   "outputs": [],
   "source": [
    "newfile=[]\n",
    "for line in open(r\"C:\\Users\\anuaq\\OneDrive\\Desktop\\text.txt\",'r'):\n",
    "    newfile.append(line)"
   ]
  },
  {
   "cell_type": "code",
   "execution_count": 17,
   "id": "f445ebac",
   "metadata": {
    "scrolled": true
   },
   "outputs": [
    {
     "data": {
      "text/plain": [
       "['We can create new sequences using a given python sequence. This is \\n',\n",
       " 'called comprehension. It basically a way of writing a concise code \\n',\n",
       " 'block to generate a sequence which can be a list, dictionary, set \\n',\n",
       " 'or a generator by using another sequence. It may involve multiple \\n',\n",
       " 'steps of conversion between different types \\n',\n",
       " 'of sequences.New generators can be created from the existing list.\\n',\n",
       " ' These generators are memory efficient as they allocate memory \\n',\n",
       " 'as the items are generated instead of allocating it at the beginning.']"
      ]
     },
     "execution_count": 17,
     "metadata": {},
     "output_type": "execute_result"
    }
   ],
   "source": [
    "newfile"
   ]
  },
  {
   "cell_type": "code",
   "execution_count": 18,
   "id": "f80036a7",
   "metadata": {},
   "outputs": [
    {
     "data": {
      "text/plain": [
       "['a',\n",
       " 'basically',\n",
       " 'called',\n",
       " 'can',\n",
       " 'code',\n",
       " 'comprehension.',\n",
       " 'concise',\n",
       " 'create',\n",
       " 'given',\n",
       " 'is',\n",
       " 'it',\n",
       " 'new',\n",
       " 'of',\n",
       " 'python',\n",
       " 'sequence.',\n",
       " 'sequences',\n",
       " 'this',\n",
       " 'using',\n",
       " 'way',\n",
       " 'we',\n",
       " 'writing']"
      ]
     },
     "execution_count": 18,
     "metadata": {},
     "output_type": "execute_result"
    }
   ],
   "source": [
    "string=\"We can create new sequences using a given python sequence. This is called comprehension. It basically a way of writing a concise code\"\n",
    "atrarr=[str.lower() for str in string.split()]\n",
    "sorted(set(atrarr))\n",
    "## set() is used to get the items without duplication."
   ]
  },
  {
   "cell_type": "code",
   "execution_count": 24,
   "id": "7759ec81",
   "metadata": {},
   "outputs": [
    {
     "data": {
      "text/plain": [
       "5.800000000000001"
      ]
     },
     "execution_count": 24,
     "metadata": {},
     "output_type": "execute_result"
    }
   ],
   "source": [
    "import numpy as np\n",
    "x=np.array([.2,3,4,5,6,7,8,9,10])\n",
    "x.mean()"
   ]
  },
  {
   "cell_type": "code",
   "execution_count": null,
   "id": "12f0f6ee",
   "metadata": {},
   "outputs": [],
   "source": []
  },
  {
   "cell_type": "code",
   "execution_count": null,
   "id": "ad8f4e22",
   "metadata": {},
   "outputs": [],
   "source": []
  }
 ],
 "metadata": {
  "kernelspec": {
   "display_name": "Python 3 (ipykernel)",
   "language": "python",
   "name": "python3"
  },
  "language_info": {
   "codemirror_mode": {
    "name": "ipython",
    "version": 3
   },
   "file_extension": ".py",
   "mimetype": "text/x-python",
   "name": "python",
   "nbconvert_exporter": "python",
   "pygments_lexer": "ipython3",
   "version": "3.9.7"
  }
 },
 "nbformat": 4,
 "nbformat_minor": 5
}
